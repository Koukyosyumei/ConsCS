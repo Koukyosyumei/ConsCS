{
 "cells": [
  {
   "cell_type": "code",
   "execution_count": 1,
   "id": "f52e1967",
   "metadata": {},
   "outputs": [],
   "source": [
    "import os"
   ]
  },
  {
   "cell_type": "code",
   "execution_count": 2,
   "id": "c4a759ec",
   "metadata": {},
   "outputs": [
    {
     "data": {
      "text/plain": [
       "'e.txt'"
      ]
     },
     "execution_count": 2,
     "metadata": {},
     "output_type": "execute_result"
    }
   ],
   "source": [
    "os.path.basename(\"./dsfdsfs/sefse/e.txt\")"
   ]
  },
  {
   "cell_type": "code",
   "execution_count": null,
   "id": "c636a42f",
   "metadata": {},
   "outputs": [],
   "source": []
  },
  {
   "cell_type": "code",
   "execution_count": null,
   "id": "2c37992a",
   "metadata": {},
   "outputs": [],
   "source": [
    "import os\n",
    "import subprocess\n",
    "from datetime import datetime\n",
    "\n",
    "def run_docker_command(solver, timeout, log_path, target_folder):\n",
    "    os.makedirs(log_path, exist_ok=True)\n",
    "    \n",
    "    for file_path in os.listdir(target_folder):\n",
    "        if file_path.endswith('.r1cs'):\n",
    "            file_name = os.path.basename(file_path)\n",
    "            base_name = file_name.split('.')[0]\n",
    "            full_path = os.path.join(target_folder, file_path)\n",
    "            log_file_path = os.path.join(log_path, f'{base_name}.log')\n",
    "\n",
    "            print(f\"=================== checking: {file_name} ===================\")\n",
    "            start_time = datetime.utcnow()\n",
    "            print(f\"====   start: {start_time}\")\n",
    "\n",
    "            command = [\n",
    "                'docker', 'exec', 'ffa0f4c0ba2b', 'racket', './picus-dpvl-uniqueness.rkt',\n",
    "                '--solver', solver, '--timeout', '5000', '--weak', '--r1cs', full_path\n",
    "            ]\n",
    "\n",
    "            start = datetime.now()\n",
    "\n",
    "            with open(log_file_path, 'w') as log_file:\n",
    "                process = subprocess.Popen(command, stdout=log_file, stderr=log_file)\n",
    "                try:\n",
    "                    process.wait(timeout=timeout)\n",
    "                except subprocess.TimeoutExpired:\n",
    "                    process.kill()\n",
    "                    print(f\"Timeout expired after {timeout} seconds\")\n",
    "\n",
    "            # End time and compute elapsed time\n",
    "            end_time = datetime.utcnow()\n",
    "            elapsed_time = (datetime.now() - start).total_seconds()\n",
    "            \n",
    "            print(f\"====     end: {end_time}\")\n",
    "            print(f\"==== elapsed: {elapsed_time} seconds\")\n",
    "\n",
    "        \n",
    "if __name__ == '__main__':\n",
    "    import sys\n",
    "    \n",
    "    for type_folder in [\"utils\", \"core\"]:\n",
    "        solver = \"cvc5\"\n",
    "        timeout = 600\n",
    "        log_path = os.path.join(\"./logs/\", type_folder)\n",
    "        target_folder = os.path.join(\"./benchmarks/\", type_folder)\n",
    "        run_docker_command(solver, timeout, log_path, target_folder)"
   ]
  },
  {
   "cell_type": "code",
   "execution_count": null,
   "id": "1b85f8f4",
   "metadata": {},
   "outputs": [],
   "source": [
    "    for type_folder in [\"test\", \"circomlibex-cff5ab6\"]:\n"
   ]
  },
  {
   "cell_type": "code",
   "execution_count": null,
   "id": "50093187",
   "metadata": {},
   "outputs": [],
   "source": [
    "\n",
    "\n",
    "benchmarks/circomlib-cff5ab6: 205\n",
    "25M\tbenchmarks/circomlib-cff5ab6\n",
    "benchmarks/circomlibex-cff5ab6: 330\n",
    "130M\tbenchmarks/circomlibex-cff5ab6\n",
    "\n"
   ]
  },
  {
   "cell_type": "code",
   "execution_count": null,
   "id": "56794c0f",
   "metadata": {},
   "outputs": [],
   "source": []
  },
  {
   "cell_type": "code",
   "execution_count": null,
   "id": "73f070ca",
   "metadata": {},
   "outputs": [],
   "source": []
  },
  {
   "cell_type": "code",
   "execution_count": null,
   "id": "342229fa",
   "metadata": {},
   "outputs": [],
   "source": [
    "sudo python3 running_picus.py cvc5 600 ./logs/full-core/ ./benchmarks/circomlibex-cff5ab6/\n",
    "\n",
    "\n",
    "chmod +x batch_run_picus.py\n",
    "\n",
    "\n"
   ]
  }
 ],
 "metadata": {
  "kernelspec": {
   "display_name": "Python 3 (ipykernel)",
   "language": "python",
   "name": "python3"
  },
  "language_info": {
   "codemirror_mode": {
    "name": "ipython",
    "version": 3
   },
   "file_extension": ".py",
   "mimetype": "text/x-python",
   "name": "python",
   "nbconvert_exporter": "python",
   "pygments_lexer": "ipython3",
   "version": "3.9.12"
  }
 },
 "nbformat": 4,
 "nbformat_minor": 5
}
