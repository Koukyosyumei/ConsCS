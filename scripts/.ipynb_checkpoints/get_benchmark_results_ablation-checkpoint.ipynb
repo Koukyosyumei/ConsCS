{
 "cells": [
  {
   "cell_type": "code",
   "execution_count": 1,
   "id": "4fbdda81",
   "metadata": {},
   "outputs": [],
   "source": [
    "import sys\n",
    "import os\n",
    "import re\n",
    "\n",
    "parent_dir = os.path.abspath('../')  \n",
    "sys.path.append(parent_dir)\n",
    "\n",
    "from get_benchmark_results_utils import *\n",
    "from misc import *"
   ]
  },
  {
   "cell_type": "code",
   "execution_count": 2,
   "id": "5c1df9b5",
   "metadata": {},
   "outputs": [],
   "source": [
    "full_stats = load_data_structure(\"../logs/saved_ds/benchmark_stats.yaml\")\n",
    "all_circuit_stats = {}\n",
    "for type_bm in full_stats:\n",
    "    for k in full_stats[type_bm]:\n",
    "        assert k not in all_circuit_stats\n",
    "        all_circuit_stats[k] = full_stats[type_bm][k]\n",
    "        all_circuit_stats[k][\"type_bench\"] = type_bm"
   ]
  },
  {
   "cell_type": "code",
   "execution_count": null,
   "id": "18079feb",
   "metadata": {},
   "outputs": [],
   "source": []
  },
  {
   "cell_type": "code",
   "execution_count": 3,
   "id": "08e7e91a",
   "metadata": {},
   "outputs": [],
   "source": [
    "ablation_stats_d = dict()\n",
    "# ablation\n",
    "for SIMPLIFICATION_flag in [\"1\", \"0\"]:\n",
    "    for BPG_flag in [\"1\", \"0\"]:\n",
    "        for ASSUMPTION_flag in [\"1\", \"0\"]:\n",
    "            flag_str = SIMPLIFICATION_flag + BPG_flag + ASSUMPTION_flag\n",
    "            cur_max_depth = '4'\n",
    "            \n",
    "            log_path = f\"../logs/ours/our_logs_{flag_str}_{cur_max_depth}.log\"\n",
    "            log_path_with_contributions = f\"./all_logs/ours/our_logs_with_contributions_{flag_str}_{cur_max_depth}.log\"\n",
    "            sr, t = get_overall_average_time_accuracy_from_logs(log_path,all_circuit_stats)\n",
    "            ablation_stats_d[flag_str] = (sr, t)\n",
    "                    "
   ]
  },
  {
   "cell_type": "code",
   "execution_count": 4,
   "id": "383a2929",
   "metadata": {},
   "outputs": [
    {
     "data": {
      "text/plain": [
       "{'111': (0.8068181818181819, 6.318026028409091),\n",
       " '110': (0.7159090909090908, 3.123936284090909),\n",
       " '101': (0.4685714285714285, 10.278984445714286),\n",
       " '100': (0.42613636363636365, 2.3767261818181815),\n",
       " '011': (0.1477272727272727, 9.455491142045455),\n",
       " '010': (0.11931818181818177, 2.403528159090909),\n",
       " '001': (0.06285714285714283, 6.78793308),\n",
       " '000': (0.07386363636363635, 0.748101340909091)}"
      ]
     },
     "execution_count": 4,
     "metadata": {},
     "output_type": "execute_result"
    }
   ],
   "source": [
    "ablation_stats_d"
   ]
  },
  {
   "cell_type": "code",
   "execution_count": null,
   "id": "e34600fc",
   "metadata": {},
   "outputs": [],
   "source": []
  },
  {
   "cell_type": "code",
   "execution_count": 5,
   "id": "dddd3e73",
   "metadata": {},
   "outputs": [
    {
     "name": "stdout",
     "output_type": "stream",
     "text": [
      "\\begin{table}[H]\n",
      "\\centering\n",
      "\\begin{tabular}{m{2em}m{2em}m{2em}|cc}\n",
      "\\hline\n",
      "\\circled{4} & \\circled{5} & \\circled{6} & \\textbf{Solved (\\%)} & \\textbf{Time (s)} \\\\ \\hline\n",
      "$\\checkmark$ & $\\checkmark$ & $\\checkmark$ & \\textbf{80.68 \\%} & \\textbf{6.32 s} \\\\\n",
      "$\\checkmark$ & $\\checkmark$ & $\\times$ & 71.59 \\% & 3.12 s \\\\\n",
      "$\\checkmark$ & $\\times$ & $\\checkmark$ & 46.86 \\% & 10.28 s \\\\\n",
      "$\\checkmark$ & $\\times$ & $\\times$ & 42.61 \\% & 2.38 s \\\\\n",
      "$\\times$ & $\\checkmark$ & $\\checkmark$ & 14.77 \\% & 9.46 s \\\\\n",
      "$\\times$ & $\\checkmark$ & $\\times$ & 11.93 \\% & 2.40 s \\\\\n",
      "$\\times$ & $\\times$ & $\\checkmark$ & 6.29 \\% & 6.79 s \\\\\n",
      "\\hline\n",
      "\\end{tabular}\n",
      "\\caption{Ablation results. On the left 3 columns, the the removed stages are indicated by a cross (i.e., \\(\\times\\)). A checkmark (i.e., \\(\\checkmark\\))  indicates that a stage is present.}\n",
      "\\label{tab:ablation}\n",
      "\\end{table}\n"
     ]
    }
   ],
   "source": [
    "ablation_results = ablation_stats_d\n",
    "\n",
    "def indicator_to_symbol(indicator):\n",
    "    return '$\\checkmark$' if indicator == '1' else '$\\\\times$'\n",
    "\n",
    "latex_table = \"\\\\begin{table}[H]\\n\\\\centering\\n\"\n",
    "latex_table += \"\\\\begin{tabular}{m{2em}m{2em}m{2em}|cc}\\n\\\\hline\\n\"\n",
    "latex_table += \"\\\\circled{4} & \\\\circled{5} & \\\\circled{6} & \\\\textbf{Solved (\\\\%)} & \\\\textbf{Time (s)} \\\\\\\\ \\\\hline\\n\"\n",
    "\n",
    "for key, (accuracy, time) in ablation_results.items():\n",
    "    feature_a, feature_b, feature_c = key\n",
    "    if key == '111':\n",
    "        row = f\"{indicator_to_symbol(feature_a)} & {indicator_to_symbol(feature_b)} & {indicator_to_symbol(feature_c)} & \" + \"\\\\textbf{\" + f\"{accuracy*100:.2f} \\%\" + \"} & \\\\textbf{\" + f\"{time:.2f}\" + \" s} \\\\\\\\\\n\"\n",
    "    elif key == '000':\n",
    "        continue\n",
    "    else:\n",
    "        row = f\"{indicator_to_symbol(feature_a)} & {indicator_to_symbol(feature_b)} & {indicator_to_symbol(feature_c)} & {accuracy*100:.2f} \\% & {time:.2f} s \\\\\\\\\\n\"\n",
    "    \n",
    "    latex_table += row\n",
    "\n",
    "latex_table += \"\\\\hline\\n\"\n",
    "latex_table += \"\\\\end{tabular}\\n\"\n",
    "latex_table += \"\\\\caption{Ablation results. On the left 3 columns, the the removed stages are indicated by a cross (i.e., \\\\(\\\\times\\\\)). A checkmark (i.e., \\\\(\\\\checkmark\\\\))  indicates that a stage is present.}\\n\"\n",
    "latex_table += \"\\\\label{tab:ablation}\\n\"\n",
    "latex_table += \"\\\\end{table}\"\n",
    "\n",
    "print(latex_table)"
   ]
  },
  {
   "cell_type": "code",
   "execution_count": null,
   "id": "fc796eb3",
   "metadata": {},
   "outputs": [],
   "source": []
  },
  {
   "cell_type": "code",
   "execution_count": null,
   "id": "2c32af3f",
   "metadata": {},
   "outputs": [],
   "source": []
  },
  {
   "cell_type": "code",
   "execution_count": null,
   "id": "da2f286c",
   "metadata": {},
   "outputs": [],
   "source": []
  },
  {
   "cell_type": "code",
   "execution_count": null,
   "id": "888fd867",
   "metadata": {},
   "outputs": [],
   "source": []
  },
  {
   "cell_type": "code",
   "execution_count": null,
   "id": "0526f850",
   "metadata": {},
   "outputs": [],
   "source": []
  },
  {
   "cell_type": "code",
   "execution_count": null,
   "id": "b9db6eb5",
   "metadata": {},
   "outputs": [],
   "source": []
  },
  {
   "cell_type": "code",
   "execution_count": null,
   "id": "7ce449a0",
   "metadata": {},
   "outputs": [],
   "source": []
  },
  {
   "cell_type": "code",
   "execution_count": null,
   "id": "975fd164",
   "metadata": {},
   "outputs": [],
   "source": []
  },
  {
   "cell_type": "code",
   "execution_count": null,
   "id": "98836253",
   "metadata": {},
   "outputs": [],
   "source": []
  },
  {
   "cell_type": "code",
   "execution_count": null,
   "id": "cd6107af",
   "metadata": {},
   "outputs": [],
   "source": []
  },
  {
   "cell_type": "code",
   "execution_count": null,
   "id": "7ccffc64",
   "metadata": {},
   "outputs": [],
   "source": []
  },
  {
   "cell_type": "code",
   "execution_count": null,
   "id": "cdd6a108",
   "metadata": {},
   "outputs": [],
   "source": []
  },
  {
   "cell_type": "code",
   "execution_count": null,
   "id": "51c969dc",
   "metadata": {},
   "outputs": [],
   "source": []
  },
  {
   "cell_type": "code",
   "execution_count": null,
   "id": "0c9a272d",
   "metadata": {},
   "outputs": [],
   "source": []
  },
  {
   "cell_type": "code",
   "execution_count": null,
   "id": "d6f22322",
   "metadata": {},
   "outputs": [],
   "source": []
  },
  {
   "cell_type": "code",
   "execution_count": null,
   "id": "dd27b9bd",
   "metadata": {},
   "outputs": [],
   "source": []
  },
  {
   "cell_type": "code",
   "execution_count": null,
   "id": "d74b482e",
   "metadata": {},
   "outputs": [],
   "source": []
  },
  {
   "cell_type": "code",
   "execution_count": null,
   "id": "c47877ce",
   "metadata": {},
   "outputs": [],
   "source": []
  },
  {
   "cell_type": "code",
   "execution_count": null,
   "id": "076646a3",
   "metadata": {},
   "outputs": [],
   "source": []
  },
  {
   "cell_type": "code",
   "execution_count": null,
   "id": "5f200142",
   "metadata": {},
   "outputs": [],
   "source": []
  },
  {
   "cell_type": "code",
   "execution_count": null,
   "id": "0ebe033f",
   "metadata": {},
   "outputs": [],
   "source": []
  },
  {
   "cell_type": "code",
   "execution_count": null,
   "id": "1c1eebd7",
   "metadata": {},
   "outputs": [],
   "source": []
  },
  {
   "cell_type": "code",
   "execution_count": null,
   "id": "274a8b1f",
   "metadata": {},
   "outputs": [],
   "source": []
  }
 ],
 "metadata": {
  "kernelspec": {
   "display_name": "Python 3 (ipykernel)",
   "language": "python",
   "name": "python3"
  },
  "language_info": {
   "codemirror_mode": {
    "name": "ipython",
    "version": 3
   },
   "file_extension": ".py",
   "mimetype": "text/x-python",
   "name": "python",
   "nbconvert_exporter": "python",
   "pygments_lexer": "ipython3",
   "version": "3.9.12"
  }
 },
 "nbformat": 4,
 "nbformat_minor": 5
}
