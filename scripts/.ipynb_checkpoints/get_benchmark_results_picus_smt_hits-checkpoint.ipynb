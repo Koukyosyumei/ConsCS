{
 "cells": [
  {
   "cell_type": "code",
   "execution_count": 2,
   "id": "c2fbe55d",
   "metadata": {},
   "outputs": [
    {
     "name": "stdout",
     "output_type": "stream",
     "text": [
      "../logs/picus/full-utils\n",
      "Total skips: 638, Total verified: 33, ratio is 0.04918032786885246, out of 66 files\n",
      "\n",
      "../logs/picus/full-core\n",
      "Total skips: 1579, Total verified: 28, ratio is 0.017423771001866834, out of 110 files\n",
      "\n"
     ]
    }
   ],
   "source": [
    "import os\n",
    "\n",
    "def read_from_file(file_path):\n",
    "    with open(file_path, 'r') as file:\n",
    "        return file.readlines()\n",
    "\n",
    "def find_r1cs_files(directory):\n",
    "    return [os.path.join(directory, file) for file in os.listdir(directory) if file.endswith('.log')]\n",
    "\n",
    "def process_files(directory):\n",
    "    files = find_r1cs_files(directory)\n",
    "    skip_count = 0\n",
    "    verified_count = 0\n",
    "    num_files = 0\n",
    "\n",
    "    for file_path in files:\n",
    "        num_files += 1\n",
    "        lines = read_from_file(file_path)\n",
    "        for line in lines:\n",
    "            if line.startswith(\"  # checking: \"):\n",
    "                if line.strip().endswith('skip.'):\n",
    "                    skip_count += 1\n",
    "                elif line.strip().endswith('verified.'):\n",
    "                    verified_count += 1\n",
    "\n",
    "    return skip_count, verified_count, num_files\n",
    "\n",
    "for directory in ['../logs/picus/full-utils', '../logs/picus/full-core']:\n",
    "    skip_total, verified_total, num_files = process_files(directory)\n",
    "    ratio = verified_total / (verified_total + skip_total)\n",
    "    print(directory)\n",
    "    print(f\"Total skips: {skip_total}, Total verified: {verified_total}, ratio is {ratio}, out of {num_files} files\")\n",
    "    print()"
   ]
  },
  {
   "cell_type": "code",
   "execution_count": 4,
   "id": "46ec1c9f",
   "metadata": {},
   "outputs": [
    {
     "data": {
      "text/plain": [
       "2.677787532923617"
      ]
     },
     "execution_count": 4,
     "metadata": {},
     "output_type": "execute_result"
    }
   ],
   "source": [
    "(33+28)/(33+28 +638+1579) * 100"
   ]
  },
  {
   "cell_type": "code",
   "execution_count": 5,
   "id": "96b15526",
   "metadata": {},
   "outputs": [
    {
     "data": {
      "text/plain": [
       "2278"
      ]
     },
     "execution_count": 5,
     "metadata": {},
     "output_type": "execute_result"
    }
   ],
   "source": [
    "33+28 +638+1579"
   ]
  },
  {
   "cell_type": "code",
   "execution_count": null,
   "id": "a3ca4e19",
   "metadata": {},
   "outputs": [],
   "source": []
  },
  {
   "cell_type": "code",
   "execution_count": null,
   "id": "bc6975ce",
   "metadata": {},
   "outputs": [],
   "source": []
  },
  {
   "cell_type": "code",
   "execution_count": null,
   "id": "b07e3dea",
   "metadata": {},
   "outputs": [],
   "source": []
  },
  {
   "cell_type": "code",
   "execution_count": null,
   "id": "ea301fa5",
   "metadata": {},
   "outputs": [],
   "source": []
  },
  {
   "cell_type": "code",
   "execution_count": null,
   "id": "e007fe76",
   "metadata": {},
   "outputs": [],
   "source": []
  },
  {
   "cell_type": "code",
   "execution_count": null,
   "id": "899b3f3d",
   "metadata": {},
   "outputs": [],
   "source": [
    "  # checking: (x57 y57), skip.\n",
    "  # checking: (x30 y30), verified."
   ]
  },
  {
   "cell_type": "code",
   "execution_count": null,
   "id": "8253d5b7",
   "metadata": {},
   "outputs": [],
   "source": []
  },
  {
   "cell_type": "code",
   "execution_count": null,
   "id": "1be066a2",
   "metadata": {},
   "outputs": [],
   "source": []
  },
  {
   "cell_type": "code",
   "execution_count": null,
   "id": "626eafaa",
   "metadata": {},
   "outputs": [],
   "source": []
  },
  {
   "cell_type": "code",
   "execution_count": null,
   "id": "7f91e22b",
   "metadata": {},
   "outputs": [],
   "source": []
  }
 ],
 "metadata": {
  "kernelspec": {
   "display_name": "Python 3 (ipykernel)",
   "language": "python",
   "name": "python3"
  },
  "language_info": {
   "codemirror_mode": {
    "name": "ipython",
    "version": 3
   },
   "file_extension": ".py",
   "mimetype": "text/x-python",
   "name": "python",
   "nbconvert_exporter": "python",
   "pygments_lexer": "ipython3",
   "version": "3.9.12"
  }
 },
 "nbformat": 4,
 "nbformat_minor": 5
}
